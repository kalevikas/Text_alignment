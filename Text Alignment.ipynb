{
 "cells": [
  {
   "cell_type": "code",
   "execution_count": null,
   "id": "6c7c3a36",
   "metadata": {},
   "outputs": [],
   "source": [
    "In python a string of text can be aligned in left,right,and center."
   ]
  },
  {
   "cell_type": "markdown",
   "id": "0a461043",
   "metadata": {},
   "source": [
    "## Left Alignment"
   ]
  },
  {
   "cell_type": "code",
   "execution_count": null,
   "id": "10942b6f",
   "metadata": {},
   "outputs": [],
   "source": [
    ".ljust(width)  # This method returns a left aligned string of length width."
   ]
  },
  {
   "cell_type": "code",
   "execution_count": 3,
   "id": "9168440e",
   "metadata": {},
   "outputs": [
    {
     "name": "stdout",
     "output_type": "stream",
     "text": [
      "HackerRank----------\n"
     ]
    }
   ],
   "source": [
    "# Ex:\n",
    "width =20\n",
    "print(\"HackerRank\".ljust(width,'-'))"
   ]
  },
  {
   "cell_type": "markdown",
   "id": "b1b95eb2",
   "metadata": {},
   "source": [
    "## Center Alignment"
   ]
  },
  {
   "cell_type": "code",
   "execution_count": null,
   "id": "42372697",
   "metadata": {},
   "outputs": [],
   "source": [
    ".center(width)  # This method returns a centered string of length width."
   ]
  },
  {
   "cell_type": "code",
   "execution_count": 4,
   "id": "33f7b750",
   "metadata": {},
   "outputs": [
    {
     "name": "stdout",
     "output_type": "stream",
     "text": [
      "-----HackerRank-----\n"
     ]
    }
   ],
   "source": [
    "# Ex:\n",
    "\n",
    "width=20\n",
    "print(\"HackerRank\".center(width,'-'))"
   ]
  },
  {
   "cell_type": "markdown",
   "id": "48d903bf",
   "metadata": {},
   "source": [
    "## Right Side Alignment"
   ]
  },
  {
   "cell_type": "code",
   "execution_count": null,
   "id": "7afd2f38",
   "metadata": {},
   "outputs": [],
   "source": [
    ".rjust(width)  # This method returns a right aligned string of length width."
   ]
  },
  {
   "cell_type": "code",
   "execution_count": 5,
   "id": "9ad0aac7",
   "metadata": {},
   "outputs": [
    {
     "name": "stdout",
     "output_type": "stream",
     "text": [
      "----------Hackerrank\n"
     ]
    }
   ],
   "source": [
    "# Ex:\n",
    "\n",
    "width=20\n",
    "print(\"Hackerrank\".rjust(width,\"-\"))"
   ]
  },
  {
   "cell_type": "markdown",
   "id": "b8a85fdd",
   "metadata": {},
   "source": [
    "# Task"
   ]
  },
  {
   "cell_type": "code",
   "execution_count": null,
   "id": "1f9574da",
   "metadata": {},
   "outputs": [],
   "source": [
    "You are given a partial code that is used for generating the HackerRank Logo of variable thickness.\n",
    "Your task is to replace the blank (______) with rjust, ljust or center."
   ]
  },
  {
   "cell_type": "code",
   "execution_count": null,
   "id": "4e920805",
   "metadata": {},
   "outputs": [],
   "source": [
    "#Replace all ______ with rjust, ljust or center. \n",
    "\n",
    "thickness = int(input()) #This must be an odd number\n",
    "c = 'H'\n",
    "\n",
    "#Top Cone\n",
    "for i in range(thickness):\n",
    "    print((c*i).______(thickness-1)+c+(c*i).______(thickness-1))\n",
    "\n",
    "#Top Pillars\n",
    "for i in range(thickness+1):\n",
    "    print((c*thickness).______(thickness*2)+(c*thickness).______(thickness*6))\n",
    "\n",
    "#Middle Belt\n",
    "for i in range((thickness+1)//2):\n",
    "    print((c*thickness*5).______(thickness*6))    \n",
    "\n",
    "#Bottom Pillars\n",
    "for i in range(thickness+1):\n",
    "    print((c*thickness).______(thickness*2)+(c*thickness).______(thickness*6))    \n",
    "\n",
    "#Bottom Cone\n",
    "for i in range(thickness):\n",
    "    print(((c*(thickness-i-1)).______(thickness)+c+(c*(thickness-i-1)).______(thickness)).______(thickness*6))"
   ]
  },
  {
   "cell_type": "markdown",
   "id": "87551923",
   "metadata": {},
   "source": [
    "# Input Format"
   ]
  },
  {
   "cell_type": "code",
   "execution_count": null,
   "id": "3d19cdb8",
   "metadata": {},
   "outputs": [],
   "source": [
    "A single line containing the thickness value for the logo."
   ]
  },
  {
   "cell_type": "markdown",
   "id": "e0f0930b",
   "metadata": {},
   "source": [
    "# Range of Thickness"
   ]
  },
  {
   "cell_type": "code",
   "execution_count": null,
   "id": "82292d0e",
   "metadata": {},
   "outputs": [],
   "source": [
    "The thickness must be an odd number.\n",
    "\n",
    "0 < Thickness < 50"
   ]
  },
  {
   "cell_type": "markdown",
   "id": "6ba47a37",
   "metadata": {},
   "source": [
    "# Output"
   ]
  },
  {
   "cell_type": "markdown",
   "id": "35317ad7",
   "metadata": {},
   "source": [
    "    H    \n",
    "   HHH   \n",
    "  HHHHH  \n",
    " HHHHHHH \n",
    "HHHHHHHHH\n",
    "  HHHHH               HHHHH             \n",
    "  HHHHH               HHHHH             \n",
    "  HHHHH               HHHHH             \n",
    "  HHHHH               HHHHH             \n",
    "  HHHHH               HHHHH             \n",
    "  HHHHH               HHHHH             \n",
    "  HHHHHHHHHHHHHHHHHHHHHHHHH   \n",
    "  HHHHHHHHHHHHHHHHHHHHHHHHH   \n",
    "  HHHHHHHHHHHHHHHHHHHHHHHHH   \n",
    "  HHHHH               HHHHH             \n",
    "  HHHHH               HHHHH             \n",
    "  HHHHH               HHHHH             \n",
    "  HHHHH               HHHHH             \n",
    "  HHHHH               HHHHH             \n",
    "  HHHHH               HHHHH             \n",
    "                    HHHHHHHHH \n",
    "                     HHHHHHH  \n",
    "                      HHHHH   \n",
    "                       HHH    \n",
    "                        H "
   ]
  },
  {
   "cell_type": "code",
   "execution_count": 17,
   "id": "333fe7db",
   "metadata": {},
   "outputs": [
    {
     "name": "stdout",
     "output_type": "stream",
     "text": [
      "5\n",
      "    H    \n",
      "   HHH   \n",
      "  HHHHH  \n",
      " HHHHHHH \n",
      "HHHHHHHHH\n",
      "  HHHHH               HHHHH             \n",
      "  HHHHH               HHHHH             \n",
      "  HHHHH               HHHHH             \n",
      "  HHHHH               HHHHH             \n",
      "  HHHHH               HHHHH             \n",
      "  HHHHH               HHHHH             \n",
      "  HHHHHHHHHHHHHHHHHHHHHHHHH   \n",
      "  HHHHHHHHHHHHHHHHHHHHHHHHH   \n",
      "  HHHHHHHHHHHHHHHHHHHHHHHHH   \n",
      "  HHHHH               HHHHH             \n",
      "  HHHHH               HHHHH             \n",
      "  HHHHH               HHHHH             \n",
      "  HHHHH               HHHHH             \n",
      "  HHHHH               HHHHH             \n",
      "  HHHHH               HHHHH             \n",
      "                    HHHHHHHHH \n",
      "                     HHHHHHH  \n",
      "                      HHHHH   \n",
      "                       HHH    \n",
      "                        H     \n"
     ]
    }
   ],
   "source": [
    "#Replace all ______ with rjust, ljust or center. \n",
    "\n",
    "thickness = int(input()) #This must be an odd number\n",
    "c = 'H'\n",
    "\n",
    "#Top Cone\n",
    "for i in range(thickness):\n",
    "    print((c*i).rjust(thickness-1)+c+(c*i).ljust(thickness-1))\n",
    "\n",
    "#Top Pillars\n",
    "for i in range(thickness+1):\n",
    "    print((c*thickness).center(thickness*2)+(c*thickness).center(thickness*6))\n",
    "\n",
    "#Middle Belt\n",
    "for i in range((thickness+1)//2):\n",
    "    print((c*thickness*5).center(thickness*6))    \n",
    "\n",
    "#Bottom Pillars\n",
    "for i in range(thickness+1):\n",
    "    print((c*thickness).center(thickness*2)+(c*thickness).center(thickness*6))    \n",
    "\n",
    "#Bottom Cone\n",
    "for i in range(thickness):\n",
    "    print(((c*(thickness-i-1)).rjust(thickness)+c+(c*(thickness-i-1)).ljust(thickness)).rjust(thickness*6))"
   ]
  },
  {
   "cell_type": "code",
   "execution_count": 18,
   "id": "594d6064",
   "metadata": {},
   "outputs": [
    {
     "name": "stdout",
     "output_type": "stream",
     "text": [
      "5\n",
      "    H    \n",
      "   HHH   \n",
      "  HHHHH  \n",
      " HHHHHHH \n",
      "HHHHHHHHH\n"
     ]
    }
   ],
   "source": [
    "thickness = int(input()) #This must be an odd number\n",
    "c = 'H'\n",
    "\n",
    "#Top Cone\n",
    "for i in range(thickness):\n",
    "    print((c*i).rjust(thickness-1)+c+(c*i).ljust(thickness-1))\n"
   ]
  },
  {
   "cell_type": "code",
   "execution_count": 22,
   "id": "bf2b486b",
   "metadata": {},
   "outputs": [
    {
     "name": "stdout",
     "output_type": "stream",
     "text": [
      "  HHHHH               HHHHH             \n",
      "  HHHHH               HHHHH             \n",
      "  HHHHH               HHHHH             \n",
      "  HHHHH               HHHHH             \n",
      "  HHHHH               HHHHH             \n",
      "  HHHHH               HHHHH             \n"
     ]
    }
   ],
   "source": [
    "#Top Pillars\n",
    "for i in range(thickness+1):\n",
    "    print((c*thickness).center(thickness*2)+(c*thickness).center(thickness*6))\n"
   ]
  },
  {
   "cell_type": "code",
   "execution_count": 23,
   "id": "48f50536",
   "metadata": {},
   "outputs": [
    {
     "name": "stdout",
     "output_type": "stream",
     "text": [
      "  HHHHHHHHHHHHHHHHHHHHHHHHH   \n",
      "  HHHHHHHHHHHHHHHHHHHHHHHHH   \n",
      "  HHHHHHHHHHHHHHHHHHHHHHHHH   \n"
     ]
    }
   ],
   "source": [
    "#Middle Belt\n",
    "for i in range((thickness+1)//2):\n",
    "    print((c*thickness*5).center(thickness*6))    "
   ]
  },
  {
   "cell_type": "code",
   "execution_count": 24,
   "id": "c4eaed8c",
   "metadata": {},
   "outputs": [
    {
     "name": "stdout",
     "output_type": "stream",
     "text": [
      "  HHHHH               HHHHH             \n",
      "  HHHHH               HHHHH             \n",
      "  HHHHH               HHHHH             \n",
      "  HHHHH               HHHHH             \n",
      "  HHHHH               HHHHH             \n",
      "  HHHHH               HHHHH             \n"
     ]
    }
   ],
   "source": [
    "#Bottom Pillars\n",
    "for i in range(thickness+1):\n",
    "    print((c*thickness).center(thickness*2)+(c*thickness).center(thickness*6))    \n"
   ]
  },
  {
   "cell_type": "code",
   "execution_count": 27,
   "id": "529c2386",
   "metadata": {},
   "outputs": [
    {
     "name": "stdout",
     "output_type": "stream",
     "text": [
      " HHHHHHHHH \n",
      "  HHHHHHH  \n",
      "   HHHHH   \n",
      "    HHH    \n",
      "     H     \n"
     ]
    }
   ],
   "source": [
    "#Bottom Cone left side\n",
    "for i in range(thickness):\n",
    "    print((c*(thickness-i-1)).rjust(thickness)+c+(c*(thickness-i-1)).ljust(thickness))#.rjust(thickness*6))"
   ]
  },
  {
   "cell_type": "code",
   "execution_count": 28,
   "id": "e66e619d",
   "metadata": {},
   "outputs": [
    {
     "name": "stdout",
     "output_type": "stream",
     "text": [
      "                    HHHHHHHHH \n",
      "                     HHHHHHH  \n",
      "                      HHHHH   \n",
      "                       HHH    \n",
      "                        H     \n"
     ]
    }
   ],
   "source": [
    "#Bottom Cone\n",
    "for i in range(thickness):\n",
    "    print(((c*(thickness-i-1)).rjust(thickness)+c+(c*(thickness-i-1)).ljust(thickness)).rjust(thickness*6))"
   ]
  },
  {
   "cell_type": "code",
   "execution_count": 29,
   "id": "5acc9f45",
   "metadata": {},
   "outputs": [
    {
     "name": "stdout",
     "output_type": "stream",
     "text": [
      "VIKAS\n",
      "*****\n"
     ]
    }
   ],
   "source": [
    "x=input().upper()\n",
    "\n",
    "for i in x:\n",
    " if i.isalpha():\n",
    "  x=x.replace(i,'*')\n",
    "print(x)"
   ]
  },
  {
   "cell_type": "code",
   "execution_count": 31,
   "id": "55b39548",
   "metadata": {},
   "outputs": [
    {
     "name": "stdout",
     "output_type": "stream",
     "text": [
      "vikas\n",
      "*IKAS\n",
      "**KAS\n",
      "***AS\n",
      "****S\n",
      "*****\n"
     ]
    }
   ],
   "source": [
    "x=input().upper()\n",
    "\n",
    "for i in x:\n",
    "    if i.isalpha():\n",
    "        x=x.replace(i,'*')\n",
    "        print(x)"
   ]
  },
  {
   "cell_type": "code",
   "execution_count": 33,
   "id": "27c8acec",
   "metadata": {},
   "outputs": [
    {
     "name": "stdout",
     "output_type": "stream",
     "text": [
      "vikas\n",
      "*****\n"
     ]
    }
   ],
   "source": [
    "x=input().upper()\n",
    "\n",
    "for i in x:\n",
    "    if i.isalpha():\n",
    "        x=x.replace(i,'*')\n",
    "print(x)"
   ]
  },
  {
   "cell_type": "code",
   "execution_count": null,
   "id": "c42bc51d",
   "metadata": {},
   "outputs": [],
   "source": []
  }
 ],
 "metadata": {
  "kernelspec": {
   "display_name": "Python 3",
   "language": "python",
   "name": "python3"
  },
  "language_info": {
   "codemirror_mode": {
    "name": "ipython",
    "version": 3
   },
   "file_extension": ".py",
   "mimetype": "text/x-python",
   "name": "python",
   "nbconvert_exporter": "python",
   "pygments_lexer": "ipython3",
   "version": "3.8.8"
  }
 },
 "nbformat": 4,
 "nbformat_minor": 5
}
